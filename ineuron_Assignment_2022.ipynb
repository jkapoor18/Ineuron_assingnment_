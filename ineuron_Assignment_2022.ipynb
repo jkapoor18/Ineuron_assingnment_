{
 "cells": [
  {
   "cell_type": "markdown",
   "id": "9646404a",
   "metadata": {},
   "source": [
    "# Q1. What is the purpose of Python OOP?"
   ]
  },
  {
   "cell_type": "markdown",
   "id": "3ad8cf1a",
   "metadata": {},
   "source": [
    "Ans:-python oop provide some benefits to programming languages like:-\n",
    "\n",
    "Modularity for easier troubleshooting,\n",
    "Reuse of code through inheritance,\n",
    "Flexibility through polymorphism,\n",
    "Effective problem solving ,etc\n",
    "These concepts make python a more special, famous, and modern language."
   ]
  },
  {
   "cell_type": "markdown",
   "id": "9883514e",
   "metadata": {},
   "source": [
    "# Q2. Where does an inheritance search look for an attribute?"
   ]
  },
  {
   "cell_type": "markdown",
   "id": "e28e6757",
   "metadata": {},
   "source": [
    "Ans:- In Python, inheritance happens when an object is qualified, and involves searching an attribute definition tree."
   ]
  },
  {
   "cell_type": "markdown",
   "id": "0f14d38e",
   "metadata": {},
   "source": [
    "# Q3. How do you distinguish between a class object and an instance object?"
   ]
  },
  {
   "cell_type": "markdown",
   "id": "6a3c5d70",
   "metadata": {},
   "source": [
    "Ans:- Class object:- \n",
    "(1) Defined directly inside a class.\n",
    "(2) Shared across all objects.\n",
    "(3) Accessed using class name as well as using object with dot notation, e.g. classname.class_attribute or        object.class_attribute\n",
    "(4) Accessed using class name as well as using object with dot notation, e.g. classname.class_attribute or object.class_attribute\n",
    "\n",
    "Inheritance object:-\n",
    "(1) Accessed using class name as well as using object with dot notation, e.g. classname.class_attribute or object.class_attribute\n",
    "(2) Specific to object.\n",
    "(3) Accessed using object dot notation e.g. object.instance_attribute\n"
   ]
  },
  {
   "cell_type": "markdown",
   "id": "e970fa6f",
   "metadata": {},
   "source": [
    "# Q4. What makes the first argument in a class’s method function special?"
   ]
  },
  {
   "cell_type": "markdown",
   "id": "2cf4c39e",
   "metadata": {},
   "source": [
    "Ans:- The first argument of every class method, including init, is always a reference to the current instance of the class. By convention, this argument is always named self. In the init method, self refers to the newly created object; in other class methods, it refers to the instance whose method was called. Note that it is not a keyword.\n",
    "\n",
    "The word 'self' is used to represent the instance of a class. By using the \"self\" keyword we access the attributes and methods of the class in python.\n",
    "\n",
    "self represents the instance of the class. By using the “self” keyword we can access the attributes and methods of the class in python. It binds the attributes with the given arguments. The reason you need to use self. is because Python does not use the @ syntax to refer to instance attributes. Python decided to do methods in a way that makes the instance to which the method belongs be passed automatically, but not received automatically: the first parameter of methods is the instance the method is called on."
   ]
  },
  {
   "cell_type": "markdown",
   "id": "cd418a5d",
   "metadata": {},
   "source": [
    "# Q5. What is the purpose of the __init__ method?"
   ]
  },
  {
   "cell_type": "markdown",
   "id": "27765bb1",
   "metadata": {},
   "source": [
    "Ans:- \"init\" is a reseved method in python classes. It is called as a constructor in object oriented terminology. This method is called when an object is created from a class and it allows the class to initialize the attributes of the class."
   ]
  },
  {
   "cell_type": "code",
   "execution_count": 1,
   "id": "628fc91e",
   "metadata": {},
   "outputs": [
    {
     "name": "stdout",
     "output_type": "stream",
     "text": [
      "Area of Rectangle: 19200 sq units\n"
     ]
    }
   ],
   "source": [
    "class Rectangle:\n",
    "   def __init__(self, length, breadth, unit_cost=0):\n",
    "       self.length = length\n",
    "       self.breadth = breadth\n",
    "       self.unit_cost = unit_cost\n",
    "   def get_area(self):\n",
    "       return self.length * self.breadth\n",
    "   def calculate_cost(self):\n",
    "       area = self.get_area()\n",
    "       return area * self.unit_cost\n",
    "# breadth = 120 units, length = 160 units, 1 sq unit cost = Rs 2000\n",
    "r = Rectangle(160, 120, 2000)\n",
    "print(\"Area of Rectangle: %s sq units\" % (r.get_area()))"
   ]
  },
  {
   "cell_type": "markdown",
   "id": "a10c0bee",
   "metadata": {},
   "source": [
    "# Q6. What is the process for creating a class instance?"
   ]
  },
  {
   "cell_type": "markdown",
   "id": "cb6ba478",
   "metadata": {},
   "source": [
    "Ans:-When you create an object, you are creating an instance of a class, therefore \"instantiating\" a class. The new operator requires a single, postfix argument: a call to a constructor. The name of the constructor provides the name of the class to instantiate.\n",
    "\n",
    "Instantiating a Class\n",
    "\n",
    "The new operator instantiates a class by allocating memory for a new object. Note: The phrase \"instantiating a class\" means the same thing as \"creating an object\"; you can think of the two as being synonymous. When you create an object, you are creating an instance of a class, therefore \"instantiating\" a class. The new operator requires a single, postfix argument: a call to a constructor. The name of the constructor provides the name of the class to instantiate. The constructor initializes the new object.\n",
    "\n",
    "The new operator returns a reference to the object it created. Often, this reference is assigned to a variable of the appropriate type. If the reference is not assigned to a variable, the object is unreachable after the statement in which the new operator appears finishes executing."
   ]
  },
  {
   "cell_type": "markdown",
   "id": "18a393b0",
   "metadata": {},
   "source": [
    "# Q7. What is the process for creating a class?"
   ]
  },
  {
   "cell_type": "markdown",
   "id": "2b8ac7bb",
   "metadata": {},
   "source": [
    "Ans:-Python is an object oriented programming language. Almost everything in Python is an object, with its properties and methods. A Class is like an object constructor, or a \"blueprint\" for creating objects.\n",
    "\n",
    "1.Create a Class\n",
    "\n",
    "To create a class, use the keyword class:\n",
    "\n",
    "Example Create a class named MyClass, with a property named x:"
   ]
  },
  {
   "cell_type": "code",
   "execution_count": 2,
   "id": "5e769459",
   "metadata": {},
   "outputs": [],
   "source": [
    "class MyClass:\n",
    "  x = 5"
   ]
  },
  {
   "cell_type": "markdown",
   "id": "59f7ae1c",
   "metadata": {},
   "source": [
    "2.Create Object\n",
    "\n",
    "Now we can use the class named MyClass to create objects:\n",
    "\n",
    "Example Create an object named p1, and print the value of x:"
   ]
  },
  {
   "cell_type": "code",
   "execution_count": 3,
   "id": "f3586d0b",
   "metadata": {},
   "outputs": [
    {
     "name": "stdout",
     "output_type": "stream",
     "text": [
      "5\n"
     ]
    }
   ],
   "source": [
    "p1 = MyClass()\n",
    "print(p1.x)"
   ]
  },
  {
   "cell_type": "markdown",
   "id": "f5575769",
   "metadata": {},
   "source": [
    "3.The init() Function"
   ]
  },
  {
   "cell_type": "code",
   "execution_count": 5,
   "id": "e127b439",
   "metadata": {},
   "outputs": [
    {
     "name": "stdout",
     "output_type": "stream",
     "text": [
      "John\n",
      "36\n"
     ]
    }
   ],
   "source": [
    "class Person:\n",
    "  def __init__(self, name, age):\n",
    "    self.name = name\n",
    "    self.age = age\n",
    "\n",
    "p1 = Person(\"John\", 36)\n",
    "\n",
    "print(p1.name)\n",
    "print(p1.age)"
   ]
  },
  {
   "cell_type": "markdown",
   "id": "95126515",
   "metadata": {},
   "source": [
    "4.Object Methods"
   ]
  },
  {
   "cell_type": "code",
   "execution_count": 10,
   "id": "63e257cd",
   "metadata": {},
   "outputs": [
    {
     "name": "stdout",
     "output_type": "stream",
     "text": [
      "Hello my name is John\n"
     ]
    }
   ],
   "source": [
    "class Person:\n",
    "  def __init__(self, name, age):\n",
    "    self.name = name\n",
    "    self.age = age\n",
    "\n",
    "  def myfunc(self):\n",
    "    print(\"Hello my name is \" + self.name)\n",
    "\n",
    "p1 = Person(\"John\", 36)\n",
    "p1.myfunc()"
   ]
  },
  {
   "cell_type": "markdown",
   "id": "fb08cb18",
   "metadata": {},
   "source": [
    "5.The self Parameter"
   ]
  },
  {
   "cell_type": "code",
   "execution_count": 8,
   "id": "24c27bdb",
   "metadata": {},
   "outputs": [
    {
     "name": "stdout",
     "output_type": "stream",
     "text": [
      "Hello my name is John\n"
     ]
    }
   ],
   "source": [
    "class Person:\n",
    "  def __init__(mysillyobject, name, age):\n",
    "    mysillyobject.name = name\n",
    "    mysillyobject.age = age\n",
    "\n",
    "  def myfunc(abc):\n",
    "    print(\"Hello my name is \" + abc.name)\n",
    "\n",
    "p1 = Person(\"John\", 36)\n",
    "p1.myfunc()"
   ]
  },
  {
   "cell_type": "markdown",
   "id": "43f09c59",
   "metadata": {},
   "source": [
    "6.Modify Object Properties"
   ]
  },
  {
   "cell_type": "code",
   "execution_count": 9,
   "id": "83558979",
   "metadata": {},
   "outputs": [],
   "source": [
    "p1.age = 40"
   ]
  },
  {
   "cell_type": "markdown",
   "id": "0b310794",
   "metadata": {},
   "source": [
    "8.Delete Objects"
   ]
  },
  {
   "cell_type": "code",
   "execution_count": 11,
   "id": "3d5e9efb",
   "metadata": {},
   "outputs": [],
   "source": [
    "del p1"
   ]
  },
  {
   "cell_type": "markdown",
   "id": "8aa50baf",
   "metadata": {},
   "source": [
    "9.The pass Statement\n"
   ]
  },
  {
   "cell_type": "code",
   "execution_count": 12,
   "id": "8a222d6c",
   "metadata": {},
   "outputs": [],
   "source": [
    "class Person:\n",
    "  pass"
   ]
  },
  {
   "cell_type": "markdown",
   "id": "8c06a9c1",
   "metadata": {},
   "source": [
    "# Q8. How would you define the superclasses of a class?"
   ]
  },
  {
   "cell_type": "markdown",
   "id": "4c5a4003",
   "metadata": {},
   "source": [
    "Ans:-A superclass is the class from which many subclasses can be created. The subclasses inherit the characteristics of a superclass. The superclass is also known as the parent class or base class."
   ]
  }
 ],
 "metadata": {
  "kernelspec": {
   "display_name": "Python 3 (ipykernel)",
   "language": "python",
   "name": "python3"
  },
  "language_info": {
   "codemirror_mode": {
    "name": "ipython",
    "version": 3
   },
   "file_extension": ".py",
   "mimetype": "text/x-python",
   "name": "python",
   "nbconvert_exporter": "python",
   "pygments_lexer": "ipython3",
   "version": "3.9.12"
  }
 },
 "nbformat": 4,
 "nbformat_minor": 5
}
