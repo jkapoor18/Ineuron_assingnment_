{
 "cells": [
  {
   "cell_type": "markdown",
   "id": "bb685850",
   "metadata": {},
   "source": [
    "## Q1. What is the relationship between def statements and lambda expressions ?"
   ]
  },
  {
   "cell_type": "markdown",
   "id": "1d87f52b",
   "metadata": {},
   "source": [
    "Ans: def statement is used to create a normal function. where as lamba expressions are used to create Anonymous functions. which can be assigned to a variable and can be called using the variable later in function.\n",
    "\n",
    "ex:- def add_numbers(a, b):\n",
    "    return a + b\n",
    "\n",
    "\n",
    "Lambda's body is a single expression and not a block of statements like def statement. The lambda expression's body is similar to what we'd put in a def body's return statement. We simply type the result as an expression instead of explicitly returning it. Because it is limited to an expression, a lambda is less general than a def statement.\n",
    "\n",
    "ex:-add_numbers_lambda = lambda a, b: a + b\n"
   ]
  },
  {
   "cell_type": "markdown",
   "id": "e76260d0",
   "metadata": {},
   "source": [
    "## Q2. What is the benefit of lambda?"
   ]
  },
  {
   "cell_type": "markdown",
   "id": "7fa9b60b",
   "metadata": {},
   "source": [
    "Ans: The following are some of the benefits of lambda expressions:\n",
    " 1. Lambda expressions are shorter and more readable than equivalent def statements\n",
    " 2.  Lambda expressions are commonly used in functional programming concepts such as map, filter, and reduce, making it easier to write code in a functional style.\n",
    " 3. Can be used to create Nameless/Anonymous functions inside some complex functions if we are planning to use it only once."
   ]
  },
  {
   "cell_type": "markdown",
   "id": "e01aa0b8",
   "metadata": {},
   "source": [
    "## Q3. Compare and contrast map, filter, and reduce."
   ]
  },
  {
   "cell_type": "markdown",
   "id": "00f7148e",
   "metadata": {},
   "source": [
    "1.map applies a function to every element of an iterable and returns a new iterable with the results. The length of the returned iterable is always the same as the input iterable.\n",
    "\n",
    "2.filter returns a new iterable containing only the elements of the input iterable that satisfy a given condition. The length of the returned iterable may be smaller than the input iterable.\n",
    "\n",
    "3.reduce applies a function to the first two elements of an iterable, then to the result and the next element, and so on, until a single result is obtained. "
   ]
  },
  {
   "cell_type": "code",
   "execution_count": 1,
   "id": "b4a28490",
   "metadata": {},
   "outputs": [
    {
     "name": "stdout",
     "output_type": "stream",
     "text": [
      "Map -> [2, 4, 6, 8]\n",
      "Filter -> [1, 3]\n",
      "Reduce -> 21\n"
     ]
    }
   ],
   "source": [
    "from functools import reduce\n",
    "# map function\n",
    "print('Map ->',list(map(lambda x:x+x, [1,2,3,4])))\n",
    "# fitler function\n",
    "print('Filter ->',list(filter(lambda x:x%2 !=0, [1,2,3,4])))\n",
    "# reduce function\n",
    "print('Reduce ->',reduce(lambda x,y:x+y, [1,2,3,4,5,6]))"
   ]
  },
  {
   "cell_type": "markdown",
   "id": "010e49ff",
   "metadata": {},
   "source": [
    "## Q4. What are function annotations, and how are they used?"
   ]
  },
  {
   "cell_type": "markdown",
   "id": "7262b79d",
   "metadata": {},
   "source": [
    "Ans: Function annotations provide a way of associating various parts of a function with arbitrary pythoncexpressions at compile time.\n",
    "Annotations of simple parameters def func(x: expression, y: expression = 20):\n",
    "\n",
    "Whereas the annotations for excess parameters are as − def func (**args: expression, **kwargs: expression):"
   ]
  },
  {
   "cell_type": "markdown",
   "id": "c223b439",
   "metadata": {},
   "source": [
    "## Q5. What are recursive functions, and how are they used?"
   ]
  },
  {
   "cell_type": "markdown",
   "id": "8db88705",
   "metadata": {},
   "source": [
    "Ans: A recursive function is a function that calls itself during its execution. The process may repeat several times, outputting the result and the end of each iteration."
   ]
  },
  {
   "cell_type": "code",
   "execution_count": 2,
   "id": "5db28db7",
   "metadata": {},
   "outputs": [],
   "source": [
    "def factorial(n):\n",
    "    if n == 0:\n",
    "        return 1\n",
    "    else:\n",
    "        return n * factorial(n-1)\n"
   ]
  },
  {
   "cell_type": "markdown",
   "id": "e7c902ea",
   "metadata": {},
   "source": [
    "## Q6. What are some general design guidelines for coding functions?"
   ]
  },
  {
   "cell_type": "markdown",
   "id": "5a6b3bb0",
   "metadata": {},
   "source": [
    "Ans: Some of the general design guidelines for coding functions are:\n",
    "\n",
    "1.Always use a docstring to explain the functionality of the function\n",
    "\n",
    "2.avoid using or limited use of global variables\n",
    "\n",
    "3.Proper Identation to increase the code readability\n",
    "\n",
    "4.try to follow a naming convention for function names (pascalCase or camelCase) and stick with the same convention throughout the application.\n",
    "\n",
    "5.Avoid using digits while choosing a variable name\n",
    "\n",
    "6.try to use a name for the function which conveys the purpose of the function\n",
    "\n",
    "7.Local variables should be named using camelCase format (ex: localVariable) whereas Global variables names should be using PascalCase (ex:GlobalVariable).\n",
    "\n",
    "8.Constant should be represented in allcaps (ex:CONSTANT)."
   ]
  },
  {
   "cell_type": "markdown",
   "id": "359cefec",
   "metadata": {},
   "source": [
    "## Q7. Name three or more ways that functions can communicate results to a caller.\n",
    "Ans: Some of the ways in which a function can communicate with the calling function is:\n",
    "\n",
    "1.print\n",
    "\n",
    "2.return\n",
    "\n",
    "3.yield"
   ]
  },
  {
   "cell_type": "code",
   "execution_count": null,
   "id": "3436111e",
   "metadata": {},
   "outputs": [],
   "source": []
  }
 ],
 "metadata": {
  "kernelspec": {
   "display_name": "Python 3 (ipykernel)",
   "language": "python",
   "name": "python3"
  },
  "language_info": {
   "codemirror_mode": {
    "name": "ipython",
    "version": 3
   },
   "file_extension": ".py",
   "mimetype": "text/x-python",
   "name": "python",
   "nbconvert_exporter": "python",
   "pygments_lexer": "ipython3",
   "version": "3.9.12"
  }
 },
 "nbformat": 4,
 "nbformat_minor": 5
}
