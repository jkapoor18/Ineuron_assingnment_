{
 "cells": [
  {
   "cell_type": "markdown",
   "id": "e3c001cf",
   "metadata": {},
   "source": [
    "# Q1. What does RGBA stand for?"
   ]
  },
  {
   "cell_type": "markdown",
   "id": "de6c618a",
   "metadata": {},
   "source": [
    "Ans:- Red Green Blue Alpha is referred to as RGBA. The red, green, and blue colour channels, as well as the alpha channel, are combinations of four values that constitute a colour in this colour paradigm, which is used in digital imaging and computer graphics. The alpha channel reflects the color's opacity or transparency, with a value of 0 denoting complete transparency and a value of 1 denoting complete opaqueness."
   ]
  },
  {
   "cell_type": "markdown",
   "id": "1f17e518",
   "metadata": {},
   "source": [
    "# Q2. From the Pillow module, how do you get the RGBA value of any images?"
   ]
  },
  {
   "cell_type": "markdown",
   "id": "8c00a266",
   "metadata": {},
   "source": [
    "Ans:- To get the RGBA value of an image using the Pillow module in Python, you can use the getpixel() method of the Image class. Here's an example:\n",
    "\n",
    "\n",
    "from PIL import Image\n",
    "\n",
    "img = Image.open('example.png')\n",
    "\n",
    "rgba = img.getpixel((x, y))  # x and y are the coordinates of the pixel\n",
    "\n",
    "print(rgba)\n"
   ]
  },
  {
   "cell_type": "markdown",
   "id": "e41c4b6d",
   "metadata": {},
   "source": [
    "# Q3. What is a box tuple, and how does it work?"
   ]
  },
  {
   "cell_type": "markdown",
   "id": "223472e2",
   "metadata": {},
   "source": [
    "Ans:- A rectangular area within an image is represented by a box tuple, which is a tuple of four integers. The left, upper, right, and lower pixel coordinates of the box are represented, respectively, by the four integers in the tuple.\n",
    "\n",
    "Many methods of the Image class in Pillow, including crop(), resize(), paste(), and thumbnail, frequently take the box tuple as an input (). The region of the image that the method should work on is specified by the box tuple."
   ]
  },
  {
   "cell_type": "markdown",
   "id": "48ff40da",
   "metadata": {},
   "source": [
    "# Q4. Use your image and load in notebook then, How can you find out the width and height of an\n",
    "Image object?"
   ]
  },
  {
   "cell_type": "markdown",
   "id": "c0221561",
   "metadata": {},
   "source": [
    "Ans:- The size attribute of an Image object in Python can be used to obtain the width and height of the image by returning a tuple of two integers that reflect the width and height of the image, respectively."
   ]
  },
  {
   "cell_type": "markdown",
   "id": "fb20dae2",
   "metadata": {},
   "source": [
    "# Q5. What method would you call to get Image object for a 100×100 image, excluding the lower-left\n",
    "quarter of it?"
   ]
  },
  {
   "cell_type": "markdown",
   "id": "cedd4e00",
   "metadata": {},
   "source": [
    "Ans:-To get an Image object for a 100x100 image, excluding the lower-left quarter of it, you can use the crop() method of the Image class in Pillow.\n",
    "\n",
    "Here's an example code\n",
    "\n",
    "from PIL import Image\n",
    "\n",
    "image = Image.open(\"file.png\")\n",
    "\n",
    "\n",
    "box = (50, 0, 100, 50)  # (left, upper, right, lower)\n",
    "\n",
    "cropped_image = image.crop(box)\n",
    "\n",
    "\n",
    "cropped_image.show()\n"
   ]
  },
  {
   "cell_type": "markdown",
   "id": "8c26e000",
   "metadata": {},
   "source": [
    "# Q6. After making changes to an Image object, how could you save it as an image file?"
   ]
  },
  {
   "cell_type": "markdown",
   "id": "65c0eac4",
   "metadata": {},
   "source": [
    "Ans:-from PIL import Image\n",
    "\n",
    "\n",
    "image = Image.open(\"example.png\")\n",
    "\n",
    "\n",
    "image = image.resize((200, 200))\n",
    "\n",
    "\n",
    "image.save(\"modified_example.png\")\n"
   ]
  },
  {
   "cell_type": "markdown",
   "id": "9a77f3f6",
   "metadata": {},
   "source": [
    "# Q7. What module contains Pillow’s shape-drawing code?"
   ]
  },
  {
   "cell_type": "markdown",
   "id": "c7562772",
   "metadata": {},
   "source": [
    "Ans:-The ImageDraw module, which is a component of the Pillow module, has the shape-drawing code for Pillow. A selection of techniques for drawing different forms, including lines, rectangles, circles, polygons, and text, on Image objects are provided by the ImageDraw module. You must first build an ImageDraw in order to use the shape-drawing techniques in the ImageDraw module. Call the appropriate method on the ImageDraw after creating a Draw object from an Image object. To create the desired shape, draw the object.\n",
    "\n",
    "\n",
    "from PIL import Image, ImageDraw\n",
    "\n",
    "\n",
    "image = Image.open(\"example.png\")\n",
    "\n",
    "\n",
    "draw = ImageDraw.Draw(image)\n",
    "\n",
    "\n",
    "draw.rectangle((50, 50, 150, 150), outline=\"red\")\n",
    "\n",
    "\n",
    "image.show()\n"
   ]
  },
  {
   "cell_type": "markdown",
   "id": "cad753fb",
   "metadata": {},
   "source": [
    "# Q8. Image objects do not have drawing methods. What kind of object does? How do you get this kind\n",
    "of object?"
   ]
  },
  {
   "cell_type": "markdown",
   "id": "cc438cdd",
   "metadata": {},
   "source": [
    "Ans:-Pillow image objects does not have drawing methods, but you may create an imagedraw object from an image object to add drawings to it. The ImageDraw object offers ways to add text and different shapes to an image.\n",
    "\n",
    "You can use the ImageDraw to make an ImageDrawDraw() object.\n",
    "\n",
    "Use the Image object as a parameter in the Draw() function. You can use the returned ImageDraw object to draw on the picture."
   ]
  }
 ],
 "metadata": {
  "kernelspec": {
   "display_name": "Python 3 (ipykernel)",
   "language": "python",
   "name": "python3"
  },
  "language_info": {
   "codemirror_mode": {
    "name": "ipython",
    "version": 3
   },
   "file_extension": ".py",
   "mimetype": "text/x-python",
   "name": "python",
   "nbconvert_exporter": "python",
   "pygments_lexer": "ipython3",
   "version": "3.9.12"
  }
 },
 "nbformat": 4,
 "nbformat_minor": 5
}
